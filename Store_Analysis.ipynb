{
 "cells": [
  {
   "cell_type": "code",
   "execution_count": 0,
   "metadata": {
    "application/vnd.databricks.v1+cell": {
     "cellMetadata": {
      "byteLimit": 2048000,
      "rowLimit": 10000
     },
     "inputWidgets": {},
     "nuid": "fde7ec55-82c3-4db2-89bd-7e316f72ca7f",
     "showTitle": false,
     "tableResultSettingsMap": {},
     "title": ""
    }
   },
   "outputs": [],
   "source": [
    "from pyspark.sql import SparkSession\n",
    "from pyspark.sql.types import *\n",
    "from pyspark.sql.functions import *"
   ]
  },
  {
   "cell_type": "markdown",
   "metadata": {
    "application/vnd.databricks.v1+cell": {
     "cellMetadata": {
      "byteLimit": 2048000,
      "rowLimit": 10000
     },
     "inputWidgets": {},
     "nuid": "6c07e831-ba8f-4908-81f0-62038d5c3f27",
     "showTitle": false,
     "tableResultSettingsMap": {},
     "title": ""
    }
   },
   "source": [
    "**STARTING SPARK SESSION**"
   ]
  },
  {
   "cell_type": "code",
   "execution_count": 0,
   "metadata": {
    "application/vnd.databricks.v1+cell": {
     "cellMetadata": {
      "byteLimit": 2048000,
      "rowLimit": 10000
     },
     "inputWidgets": {},
     "nuid": "9bc4e343-293f-4d5e-97df-f94db1fdb633",
     "showTitle": false,
     "tableResultSettingsMap": {},
     "title": ""
    }
   },
   "outputs": [],
   "source": [
    "spark = SparkSession.builder\\\n",
    "         .appName('store_analysis')\\\n",
    "             .getOrCreate()"
   ]
  },
  {
   "cell_type": "markdown",
   "metadata": {
    "application/vnd.databricks.v1+cell": {
     "cellMetadata": {
      "byteLimit": 2048000,
      "rowLimit": 10000
     },
     "inputWidgets": {},
     "nuid": "ae61fccb-df6b-48c4-bf1a-227b38bd7c13",
     "showTitle": false,
     "tableResultSettingsMap": {},
     "title": ""
    }
   },
   "source": [
    "**READING DATASETS/LOAD**"
   ]
  },
  {
   "cell_type": "code",
   "execution_count": 0,
   "metadata": {
    "application/vnd.databricks.v1+cell": {
     "cellMetadata": {
      "byteLimit": 2048000,
      "rowLimit": 10000
     },
     "inputWidgets": {},
     "nuid": "84018352-e0c1-482f-b4e3-d94fe6bfbb2b",
     "showTitle": false,
     "tableResultSettingsMap": {},
     "title": ""
    }
   },
   "outputs": [],
   "source": [
    "df_people = spark.read.csv('/FileStore/tables/store_data/superstore_people.csv', header=True, inferSchema=True)\n",
    "\n",
    "df_orders = spark.read.csv('/FileStore/tables/store_data/superstore_orders.csv', header=True, inferSchema=True)\n",
    "\n",
    "df_returns = spark.read.csv('/FileStore/tables/store_data/superstore_returns.csv', header=True, inferSchema=True)\n"
   ]
  },
  {
   "cell_type": "code",
   "execution_count": 0,
   "metadata": {
    "application/vnd.databricks.v1+cell": {
     "cellMetadata": {
      "byteLimit": 2048000,
      "rowLimit": 10000
     },
     "inputWidgets": {},
     "nuid": "274a622e-747e-4ecb-aa2b-b76d7f359f39",
     "showTitle": false,
     "tableResultSettingsMap": {},
     "title": ""
    }
   },
   "outputs": [
    {
     "output_type": "stream",
     "name": "stdout",
     "output_type": "stream",
     "text": [
      "+-----------------+-------+\n| Regional Manager| Region|\n+-----------------+-------+\n|  Sadie Pawthorne|   West|\n|      Chuck Magee|   East|\n|Roxanne Rodriguez|Central|\n|      Fred Suzuki|  South|\n+-----------------+-------+\n\n+--------+--------------+\n|Returned|      Order ID|\n+--------+--------------+\n|     Yes|US-2021-100762|\n|     Yes|US-2021-100762|\n|     Yes|US-2021-100762|\n|     Yes|US-2021-100762|\n|     Yes|US-2021-100867|\n+--------+--------------+\nonly showing top 5 rows\n\n"
     ]
    }
   ],
   "source": [
    "df_people.show(5)\n",
    "df_returns.show(5)"
   ]
  },
  {
   "cell_type": "code",
   "execution_count": 0,
   "metadata": {
    "application/vnd.databricks.v1+cell": {
     "cellMetadata": {
      "byteLimit": 2048000,
      "rowLimit": 10000
     },
     "inputWidgets": {},
     "nuid": "31ce4d68-1ada-448c-bbba-1282a0bde8cf",
     "showTitle": false,
     "tableResultSettingsMap": {},
     "title": ""
    }
   },
   "outputs": [
    {
     "output_type": "stream",
     "name": "stdout",
     "output_type": "stream",
     "text": [
      "+------+--------------+----------+----------+--------------+-----------+-------------+-----------+--------------+------------+--------------+-----------+-------+---------------+---------------+------------+--------------------+--------------------+--------+--------+--------+\n|Row ID|      Order ID|Order Date| Ship Date|     Ship Mode|Customer ID|Customer Name|    Segment|Country/Region|        City|State/Province|Postal Code| Region|     Product ID|       Category|Sub-Category|        Product Name|               Sales|Quantity|Discount|  Profit|\n+------+--------------+----------+----------+--------------+-----------+-------------+-----------+--------------+------------+--------------+-----------+-------+---------------+---------------+------------+--------------------+--------------------+--------+--------+--------+\n|     1|US-2021-103800|2021-01-03|2021-01-07|Standard Class|   DP-13000|Darren Powers|   Consumer| United States|     Houston|         Texas|      77095|Central|OFF-PA-10000174|Office Supplies|       Paper|\"Message Book, Wi...| 200 Dupl. Sets/B...|  16.448|       2|     0.2|\n|     2|US-2021-112326|2021-01-04|2021-01-08|Standard Class|   PO-19195|Phillina Ober|Home Office| United States|  Naperville|      Illinois|      60540|Central|OFF-BI-10004094|Office Supplies|     Binders|GBC Standard Plas...|                3.54|       2|     0.8|  -5.487|\n|     3|US-2021-112326|2021-01-04|2021-01-08|Standard Class|   PO-19195|Phillina Ober|Home Office| United States|  Naperville|      Illinois|      60540|Central|OFF-LA-10003223|Office Supplies|      Labels|           Avery 508|              11.784|       3|     0.2|  4.2717|\n|     4|US-2021-112326|2021-01-04|2021-01-08|Standard Class|   PO-19195|Phillina Ober|Home Office| United States|  Naperville|      Illinois|      60540|Central|OFF-ST-10002743|Office Supplies|     Storage|SAFCO Boltless St...|             272.736|       3|     0.2|-64.7748|\n|     5|US-2021-141817|2021-01-05|2021-01-12|Standard Class|   MB-18085|   Mick Brown|   Consumer| United States|Philadelphia|  Pennsylvania|      19143|   East|OFF-AR-10003478|Office Supplies|         Art|Avery Hi-Liter Ev...|              19.536|       3|     0.2|   4.884|\n+------+--------------+----------+----------+--------------+-----------+-------------+-----------+--------------+------------+--------------+-----------+-------+---------------+---------------+------------+--------------------+--------------------+--------+--------+--------+\nonly showing top 5 rows\n\n"
     ]
    }
   ],
   "source": [
    "df_orders.show(5)"
   ]
  },
  {
   "cell_type": "code",
   "execution_count": 0,
   "metadata": {
    "application/vnd.databricks.v1+cell": {
     "cellMetadata": {
      "byteLimit": 2048000,
      "rowLimit": 10000
     },
     "inputWidgets": {},
     "nuid": "d0662d89-b4e9-4d8a-8943-dfc3e1f78bdb",
     "showTitle": false,
     "tableResultSettingsMap": {},
     "title": ""
    }
   },
   "outputs": [
    {
     "output_type": "stream",
     "name": "stdout",
     "output_type": "stream",
     "text": [
      "root\n |-- Row ID: integer (nullable = true)\n |-- Order ID: string (nullable = true)\n |-- Order Date: date (nullable = true)\n |-- Ship Date: date (nullable = true)\n |-- Ship Mode: string (nullable = true)\n |-- Customer ID: string (nullable = true)\n |-- Customer Name: string (nullable = true)\n |-- Segment: string (nullable = true)\n |-- Country/Region: string (nullable = true)\n |-- City: string (nullable = true)\n |-- State/Province: string (nullable = true)\n |-- Postal Code: string (nullable = true)\n |-- Region: string (nullable = true)\n |-- Product ID: string (nullable = true)\n |-- Category: string (nullable = true)\n |-- Sub-Category: string (nullable = true)\n |-- Product Name: string (nullable = true)\n |-- Sales: string (nullable = true)\n |-- Quantity: string (nullable = true)\n |-- Discount: string (nullable = true)\n |-- Profit: double (nullable = true)\n\n21\n"
     ]
    }
   ],
   "source": [
    "df_orders.printSchema()\n",
    "df_orders.count()\n",
    "print(len(df_orders.columns))"
   ]
  },
  {
   "cell_type": "code",
   "execution_count": 0,
   "metadata": {
    "application/vnd.databricks.v1+cell": {
     "cellMetadata": {
      "byteLimit": 2048000,
      "rowLimit": 10000
     },
     "inputWidgets": {},
     "nuid": "f8c182b1-c55c-47e3-a995-00a056396770",
     "showTitle": false,
     "tableResultSettingsMap": {},
     "title": ""
    }
   },
   "outputs": [
    {
     "output_type": "stream",
     "name": "stdout",
     "output_type": "stream",
     "text": [
      "root\n |-- Row ID: integer (nullable = true)\n |-- Order ID: string (nullable = true)\n |-- Order Date: date (nullable = true)\n |-- Ship Date: date (nullable = true)\n |-- Ship Mode: string (nullable = true)\n |-- Customer ID: string (nullable = true)\n |-- Customer Name: string (nullable = true)\n |-- Segment: string (nullable = true)\n |-- Country/Region: string (nullable = true)\n |-- City: string (nullable = true)\n |-- State/Province: string (nullable = true)\n |-- Postal Code: string (nullable = true)\n |-- Region: string (nullable = true)\n |-- Product ID: string (nullable = true)\n |-- Category: string (nullable = true)\n |-- Sub-Category: string (nullable = true)\n |-- Product Name: string (nullable = true)\n |-- Sales: string (nullable = true)\n |-- Quantity: string (nullable = true)\n |-- Discount: string (nullable = true)\n |-- Profit: double (nullable = true)\n\n"
     ]
    }
   ],
   "source": [
    "df_orders.printSchema()"
   ]
  },
  {
   "cell_type": "markdown",
   "metadata": {
    "application/vnd.databricks.v1+cell": {
     "cellMetadata": {
      "byteLimit": 2048000,
      "rowLimit": 10000
     },
     "inputWidgets": {},
     "nuid": "de158b83-4881-4f4f-b413-f724378786e9",
     "showTitle": false,
     "tableResultSettingsMap": {},
     "title": ""
    }
   },
   "source": [
    "**SALES & PROFIT **ANALYSIS****"
   ]
  },
  {
   "cell_type": "code",
   "execution_count": 0,
   "metadata": {
    "application/vnd.databricks.v1+cell": {
     "cellMetadata": {
      "byteLimit": 2048000,
      "rowLimit": 10000
     },
     "inputWidgets": {},
     "nuid": "73b75cb8-2d6c-4200-8295-2687f252b205",
     "showTitle": false,
     "tableResultSettingsMap": {},
     "title": ""
    }
   },
   "outputs": [
    {
     "output_type": "display_data",
     "data": {
      "text/html": [
       "<style scoped>\n",
       "  .table-result-container {\n",
       "    max-height: 300px;\n",
       "    overflow: auto;\n",
       "  }\n",
       "  table, th, td {\n",
       "    border: 1px solid black;\n",
       "    border-collapse: collapse;\n",
       "  }\n",
       "  th, td {\n",
       "    padding: 5px;\n",
       "  }\n",
       "  th {\n",
       "    text-align: left;\n",
       "  }\n",
       "</style><div class='table-result-container'><table class='table-result'><thead style='background-color: white'><tr><th>total_sales_$</th><th>total_profit_$</th><th>avg_sales_$</th><th>avg_profit_$</th></tr></thead><tbody><tr><td>2301618</td><td>291611</td><td>232</td><td>28</td></tr></tbody></table></div>"
      ]
     },
     "metadata": {
      "application/vnd.databricks.v1+output": {
       "addedWidgets": {},
       "aggData": [],
       "aggError": "",
       "aggOverflow": false,
       "aggSchema": [],
       "aggSeriesLimitReached": false,
       "aggType": "",
       "arguments": {},
       "columnCustomDisplayInfos": {},
       "data": [
        [
         2301618,
         291611,
         232,
         28
        ]
       ],
       "datasetInfos": [],
       "dbfsResultPath": null,
       "isJsonSchema": true,
       "metadata": {},
       "overflow": false,
       "plotOptions": {
        "customPlotOptions": {},
        "displayType": "table",
        "pivotAggregation": null,
        "pivotColumns": null,
        "xColumns": null,
        "yColumns": null
       },
       "removedWidgets": [],
       "schema": [
        {
         "metadata": "{}",
         "name": "total_sales_$",
         "type": "\"integer\""
        },
        {
         "metadata": "{}",
         "name": "total_profit_$",
         "type": "\"integer\""
        },
        {
         "metadata": "{}",
         "name": "avg_sales_$",
         "type": "\"integer\""
        },
        {
         "metadata": "{}",
         "name": "avg_profit_$",
         "type": "\"integer\""
        }
       ],
       "type": "table"
      }
     },
     "output_type": "display_data"
    },
    {
     "output_type": "display_data",
     "data": {
      "text/html": [
       "<style scoped>\n",
       "  .table-result-container {\n",
       "    max-height: 300px;\n",
       "    overflow: auto;\n",
       "  }\n",
       "  table, th, td {\n",
       "    border: 1px solid black;\n",
       "    border-collapse: collapse;\n",
       "  }\n",
       "  th, td {\n",
       "    padding: 5px;\n",
       "  }\n",
       "  th {\n",
       "    text-align: left;\n",
       "  }\n",
       "</style><div class='table-result-container'><table class='table-result'><thead style='background-color: white'><tr><th>Region</th><th>total_sales_$</th><th>total_profit_$</th><th>avg_sales_$</th><th>avg_profit_$</th></tr></thead><tbody><tr><td>South</td><td>388983</td><td>46650</td><td>246</td><td>28</td></tr><tr><td>Central</td><td>499594</td><td>40323</td><td>220</td><td>17</td></tr><tr><td>East</td><td>685240</td><td>94963</td><td>236</td><td>31</td></tr><tr><td>West</td><td>727799</td><td>109674</td><td>231</td><td>33</td></tr></tbody></table></div>"
      ]
     },
     "metadata": {
      "application/vnd.databricks.v1+output": {
       "addedWidgets": {},
       "aggData": [],
       "aggError": "",
       "aggOverflow": false,
       "aggSchema": [],
       "aggSeriesLimitReached": false,
       "aggType": "",
       "arguments": {},
       "columnCustomDisplayInfos": {},
       "data": [
        [
         "South",
         388983,
         46650,
         246,
         28
        ],
        [
         "Central",
         499594,
         40323,
         220,
         17
        ],
        [
         "East",
         685240,
         94963,
         236,
         31
        ],
        [
         "West",
         727799,
         109674,
         231,
         33
        ]
       ],
       "datasetInfos": [],
       "dbfsResultPath": null,
       "isJsonSchema": true,
       "metadata": {},
       "overflow": false,
       "plotOptions": {
        "customPlotOptions": {},
        "displayType": "table",
        "pivotAggregation": null,
        "pivotColumns": null,
        "xColumns": null,
        "yColumns": null
       },
       "removedWidgets": [],
       "schema": [
        {
         "metadata": "{}",
         "name": "Region",
         "type": "\"string\""
        },
        {
         "metadata": "{}",
         "name": "total_sales_$",
         "type": "\"integer\""
        },
        {
         "metadata": "{}",
         "name": "total_profit_$",
         "type": "\"integer\""
        },
        {
         "metadata": "{}",
         "name": "avg_sales_$",
         "type": "\"integer\""
        },
        {
         "metadata": "{}",
         "name": "avg_profit_$",
         "type": "\"integer\""
        }
       ],
       "type": "table"
      }
     },
     "output_type": "display_data"
    }
   ],
   "source": [
    "sales_profit_df = df_orders.groupBy()\\\n",
    "                       .agg(\n",
    "                           sum('Sales').cast('int').alias('total_sales_$'),\n",
    "                           sum('Profit').cast('int').alias('total_profit_$'),\n",
    "                           avg('Sales').cast('int').alias('avg_sales_$'),\n",
    "                           avg('Profit').cast('int').alias('avg_profit_$')\n",
    "                           )\n",
    "                       \n",
    "\n",
    "sales_profit_by_region = df_orders.groupBy('Region')\\\n",
    "                       .agg(\n",
    "                           sum('Sales').cast('int').alias('total_sales_$'),\n",
    "                           sum('Profit').cast('int').alias('total_profit_$'),\n",
    "                           avg('Sales').cast('int').alias('avg_sales_$'),\n",
    "                           avg('Profit').cast('int').alias('avg_profit_$')\n",
    "                           )        \n",
    "\n",
    "\n",
    "sales_profit_df.display()\n",
    "sales_profit_by_region.display()"
   ]
  },
  {
   "cell_type": "code",
   "execution_count": 0,
   "metadata": {
    "application/vnd.databricks.v1+cell": {
     "cellMetadata": {
      "byteLimit": 2048000,
      "rowLimit": 10000
     },
     "inputWidgets": {},
     "nuid": "632d03dc-674c-481d-9bcd-ec3382d03b21",
     "showTitle": false,
     "tableResultSettingsMap": {},
     "title": ""
    }
   },
   "outputs": [
    {
     "output_type": "stream",
     "name": "stdout",
     "output_type": "stream",
     "text": [
      "+---------------+-----------+------------+\n|       Category|total_sales|total_profit|\n+---------------+-----------+------------+\n|Office Supplies|     716212|      124179|\n|      Furniture|     745794|       20965|\n|     Technology|     839611|      146467|\n+---------------+-----------+------------+\n\n"
     ]
    }
   ],
   "source": [
    "\n",
    "\n",
    "most_sold_cat = df_orders.groupBy('Category')\\\n",
    "                         .agg(\n",
    "                             sum('Sales').cast('int').alias('total_sales'),\n",
    "                             sum('Profit').cast('int').alias('total_profit')\n",
    "                             )\n",
    "\n",
    "most_sold_cat.show()\n"
   ]
  },
  {
   "cell_type": "code",
   "execution_count": 0,
   "metadata": {
    "application/vnd.databricks.v1+cell": {
     "cellMetadata": {
      "byteLimit": 2048000,
      "rowLimit": 10000
     },
     "inputWidgets": {},
     "nuid": "0c9b53b3-a1dc-4cf1-9bf0-4e1362f4c5a5",
     "showTitle": false,
     "tableResultSettingsMap": {},
     "title": ""
    }
   },
   "outputs": [
    {
     "output_type": "stream",
     "name": "stdout",
     "output_type": "stream",
     "text": [
      "+-------+-----------+------------+\n| Region|total_sales|total_profit|\n+-------+-----------+------------+\n|   West|     727799|      109674|\n|   East|     685240|       94963|\n|Central|     499594|       40323|\n|  South|     388983|       46650|\n+-------+-----------+------------+\n\n"
     ]
    }
   ],
   "source": [
    "most_sold_cat_region = df_orders.groupBy('Region')\\\n",
    "                         .agg(\n",
    "                             sum('Sales').cast('int').alias('total_sales'),\n",
    "                             sum('Profit').cast('int').alias('total_profit'),\n",
    "                             )\\\n",
    "                         .orderBy('total_sales', ascending = False)\n",
    "                       \n",
    "                         \n",
    "most_sold_cat_region.show()                        \n"
   ]
  },
  {
   "cell_type": "code",
   "execution_count": 0,
   "metadata": {
    "application/vnd.databricks.v1+cell": {
     "cellMetadata": {
      "byteLimit": 2048000,
      "rowLimit": 10000
     },
     "inputWidgets": {},
     "nuid": "21d99aaf-ebf9-4003-8927-2cd7594e4439",
     "showTitle": false,
     "tableResultSettingsMap": {},
     "title": ""
    }
   },
   "outputs": [
    {
     "output_type": "display_data",
     "data": {
      "text/html": [
       "<style scoped>\n",
       "  .table-result-container {\n",
       "    max-height: 300px;\n",
       "    overflow: auto;\n",
       "  }\n",
       "  table, th, td {\n",
       "    border: 1px solid black;\n",
       "    border-collapse: collapse;\n",
       "  }\n",
       "  th, td {\n",
       "    padding: 5px;\n",
       "  }\n",
       "  th {\n",
       "    text-align: left;\n",
       "  }\n",
       "</style><div class='table-result-container'><table class='table-result'><thead style='background-color: white'><tr><th>Region</th><th>total_orders</th></tr></thead><tbody><tr><td>West</td><td>3253</td></tr><tr><td>East</td><td>2986</td></tr><tr><td>Central</td><td>2335</td></tr><tr><td>South</td><td>1620</td></tr></tbody></table></div>"
      ]
     },
     "metadata": {
      "application/vnd.databricks.v1+output": {
       "addedWidgets": {},
       "aggData": [],
       "aggError": "",
       "aggOverflow": false,
       "aggSchema": [],
       "aggSeriesLimitReached": false,
       "aggType": "",
       "arguments": {},
       "columnCustomDisplayInfos": {},
       "data": [
        [
         "West",
         3253
        ],
        [
         "East",
         2986
        ],
        [
         "Central",
         2335
        ],
        [
         "South",
         1620
        ]
       ],
       "datasetInfos": [],
       "dbfsResultPath": null,
       "isJsonSchema": true,
       "metadata": {},
       "overflow": false,
       "plotOptions": {
        "customPlotOptions": {},
        "displayType": "table",
        "pivotAggregation": null,
        "pivotColumns": null,
        "xColumns": null,
        "yColumns": null
       },
       "removedWidgets": [],
       "schema": [
        {
         "metadata": "{}",
         "name": "Region",
         "type": "\"string\""
        },
        {
         "metadata": "{}",
         "name": "total_orders",
         "type": "\"long\""
        }
       ],
       "type": "table"
      }
     },
     "output_type": "display_data"
    }
   ],
   "source": [
    "order_region = df_orders.groupBy('Region')\\\n",
    "                        .agg(\n",
    "                            count('Order ID').alias('total_orders')\n",
    "                             ).orderBy('total_orders', ascending=False)\n",
    "                        \n",
    "order_region.display()\n",
    "                      "
   ]
  },
  {
   "cell_type": "code",
   "execution_count": 0,
   "metadata": {
    "application/vnd.databricks.v1+cell": {
     "cellMetadata": {
      "byteLimit": 2048000,
      "rowLimit": 10000
     },
     "inputWidgets": {},
     "nuid": "73d65e80-7950-41ee-8dad-a61e01cd2c84",
     "showTitle": false,
     "tableResultSettingsMap": {},
     "title": ""
    }
   },
   "outputs": [
    {
     "output_type": "stream",
     "name": "stdout",
     "output_type": "stream",
     "text": [
      "+---------------+------------+-----------+------------+\n|Category       |sub-Category|total_sales|total_profit|\n+---------------+------------+-----------+------------+\n|Furniture      |Chairs      |335768     |27223       |\n|Technology     |Phones      |331560     |44974       |\n|Office Supplies|Storage     |217604     |21536       |\n|Furniture      |Tables      |208020     |-17753      |\n|Office Supplies|Binders     |203710     |31256       |\n+---------------+------------+-----------+------------+\nonly showing top 5 rows\n\n"
     ]
    }
   ],
   "source": [
    "salesprofit_by_cat = df_orders.groupBy('Category','sub-Category')\\\n",
    "                               .agg(\n",
    "                                   sum('Sales').cast('int').alias('total_sales'),\n",
    "                                   sum('Profit').cast('int').alias('total_profit')\n",
    "                               ).orderBy(\"total_sales\",ascending=False)\n",
    "\n",
    "salesprofit_by_cat.show(5, False)"
   ]
  },
  {
   "cell_type": "markdown",
   "metadata": {
    "application/vnd.databricks.v1+cell": {
     "cellMetadata": {
      "byteLimit": 2048000,
      "rowLimit": 10000
     },
     "inputWidgets": {},
     "nuid": "369e6ae6-b3c6-4b4f-9c8f-5ffa7b796237",
     "showTitle": false,
     "tableResultSettingsMap": {},
     "title": ""
    }
   },
   "source": [
    "**ORDER AND RETURN ANALYSIS**\n"
   ]
  },
  {
   "cell_type": "code",
   "execution_count": 0,
   "metadata": {
    "application/vnd.databricks.v1+cell": {
     "cellMetadata": {
      "byteLimit": 2048000,
      "rowLimit": 10000
     },
     "inputWidgets": {},
     "nuid": "0190cb8e-f033-48b3-a2d8-4e07b80d05df",
     "showTitle": false,
     "tableResultSettingsMap": {},
     "title": ""
    }
   },
   "outputs": [
    {
     "output_type": "stream",
     "name": "stdout",
     "output_type": "stream",
     "text": [
      "22\nroot\n |-- Order ID: string (nullable = true)\n |-- Row ID: integer (nullable = true)\n |-- Order Date: date (nullable = true)\n |-- Ship Date: date (nullable = true)\n |-- Ship Mode: string (nullable = true)\n |-- Customer ID: string (nullable = true)\n |-- Customer Name: string (nullable = true)\n |-- Segment: string (nullable = true)\n |-- Country/Region: string (nullable = true)\n |-- City: string (nullable = true)\n |-- State/Province: string (nullable = true)\n |-- Postal Code: string (nullable = true)\n |-- Region: string (nullable = true)\n |-- Product ID: string (nullable = true)\n |-- Category: string (nullable = true)\n |-- Sub-Category: string (nullable = true)\n |-- Product Name: string (nullable = true)\n |-- Sales: string (nullable = true)\n |-- Quantity: string (nullable = true)\n |-- Discount: string (nullable = true)\n |-- Profit: double (nullable = true)\n |-- Returned: string (nullable = true)\n\n"
     ]
    }
   ],
   "source": [
    "df_orders_return = df_orders.join(df_returns, on='Order ID', how='left_outer')\n",
    "\n",
    "print(len(df_orders_return.columns))\n",
    "\n",
    "df_orders_return.printSchema()\n"
   ]
  },
  {
   "cell_type": "markdown",
   "metadata": {
    "application/vnd.databricks.v1+cell": {
     "cellMetadata": {
      "byteLimit": 2048000,
      "rowLimit": 10000
     },
     "inputWidgets": {},
     "nuid": "1a91d397-d97f-4e9a-b597-0975861c81a3",
     "showTitle": false,
     "tableResultSettingsMap": {},
     "title": ""
    }
   },
   "source": [
    "Analyze the impact of returns on profitability and identify products with the highest return rates."
   ]
  },
  {
   "cell_type": "code",
   "execution_count": 0,
   "metadata": {
    "application/vnd.databricks.v1+cell": {
     "cellMetadata": {
      "byteLimit": 2048000,
      "rowLimit": 10000
     },
     "inputWidgets": {},
     "nuid": "9458ba96-561d-454a-8088-d31c2bac6c68",
     "showTitle": false,
     "tableResultSettingsMap": {},
     "title": ""
    }
   },
   "outputs": [],
   "source": [
    "\n",
    "\n",
    "return_over_profit = df_orders_return.groupBy('Product Name')\\\n",
    "                                     .agg(\n",
    "                                         sum('Sales').cast('int').alias('total_sales'),\n",
    "                                         count('Returned').alias('returns')\n",
    "                                     ).orderBy('returns', ascending=False)\n",
    "\n",
    "\n"
   ]
  },
  {
   "cell_type": "code",
   "execution_count": 0,
   "metadata": {
    "application/vnd.databricks.v1+cell": {
     "cellMetadata": {
      "byteLimit": 2048000,
      "rowLimit": 10000
     },
     "inputWidgets": {},
     "nuid": "45e8aa31-1250-4944-981f-3f5a660d76f1",
     "showTitle": false,
     "tableResultSettingsMap": {},
     "title": ""
    }
   },
   "outputs": [
    {
     "output_type": "display_data",
     "data": {
      "text/html": [
       "<style scoped>\n",
       "  .table-result-container {\n",
       "    max-height: 300px;\n",
       "    overflow: auto;\n",
       "  }\n",
       "  table, th, td {\n",
       "    border: 1px solid black;\n",
       "    border-collapse: collapse;\n",
       "  }\n",
       "  th, td {\n",
       "    padding: 5px;\n",
       "  }\n",
       "  th {\n",
       "    text-align: left;\n",
       "  }\n",
       "</style><div class='table-result-container'><table class='table-result'><thead style='background-color: white'><tr><th>total_returns</th></tr></thead><tbody><tr><td>3226</td></tr></tbody></table></div>"
      ]
     },
     "metadata": {
      "application/vnd.databricks.v1+output": {
       "addedWidgets": {},
       "aggData": [],
       "aggError": "",
       "aggOverflow": false,
       "aggSchema": [],
       "aggSeriesLimitReached": false,
       "aggType": "",
       "arguments": {},
       "columnCustomDisplayInfos": {},
       "data": [
        [
         3226
        ]
       ],
       "datasetInfos": [],
       "dbfsResultPath": null,
       "isJsonSchema": true,
       "metadata": {},
       "overflow": false,
       "plotOptions": {
        "customPlotOptions": {},
        "displayType": "table",
        "pivotAggregation": null,
        "pivotColumns": null,
        "xColumns": null,
        "yColumns": null
       },
       "removedWidgets": [],
       "schema": [
        {
         "metadata": "{}",
         "name": "total_returns",
         "type": "\"long\""
        }
       ],
       "type": "table"
      }
     },
     "output_type": "display_data"
    }
   ],
   "source": [
    "return_over_profit_sum = return_over_profit\\\n",
    "    .agg(\n",
    "   sum(col('returns')).alias('total_returns')\n",
    "        )\n",
    "return_over_profit_sum.display()"
   ]
  },
  {
   "cell_type": "markdown",
   "metadata": {
    "application/vnd.databricks.v1+cell": {
     "cellMetadata": {
      "byteLimit": 2048000,
      "rowLimit": 10000
     },
     "inputWidgets": {},
     "nuid": "3909a052-be76-4422-85f1-7e13d47f9860",
     "showTitle": false,
     "tableResultSettingsMap": {},
     "title": ""
    }
   },
   "source": [
    "Identify the best and worst-performing customer segments.\n"
   ]
  },
  {
   "cell_type": "code",
   "execution_count": 0,
   "metadata": {
    "application/vnd.databricks.v1+cell": {
     "cellMetadata": {
      "byteLimit": 2048000,
      "rowLimit": 10000
     },
     "inputWidgets": {},
     "nuid": "009621d0-4d6d-476e-b613-349b92af1db7",
     "showTitle": false,
     "tableResultSettingsMap": {},
     "title": ""
    }
   },
   "outputs": [
    {
     "output_type": "stream",
     "name": "stdout",
     "output_type": "stream",
     "text": [
      "+-----------+------------+-----------+---------+\n|    Segment|total_profit|total_sales|avg_sales|\n+-----------+------------+-----------+---------+\n|   Consumer|      136709|    1159287|       25|\n|  Corporate|       93690|     706236|       30|\n|Home Office|       61210|     436094|       33|\n+-----------+------------+-----------+---------+\n\n"
     ]
    }
   ],
   "source": [
    "cust_segment_performance = df_orders.groupBy('Segment')\\\n",
    "                                    .agg(\n",
    "                                        sum('Profit').cast('int').alias('total_profit'),\n",
    "                                        sum('Sales').cast('int').alias('total_sales'),\n",
    "                                        avg('Profit').cast('int').alias('avg_sales'),\n",
    "                                    ).orderBy('total_profit', ascending = False).show()"
   ]
  },
  {
   "cell_type": "markdown",
   "metadata": {
    "application/vnd.databricks.v1+cell": {
     "cellMetadata": {
      "byteLimit": 2048000,
      "rowLimit": 10000
     },
     "inputWidgets": {},
     "nuid": "2eebce32-e35b-4953-8118-dd946aa6f63a",
     "showTitle": false,
     "tableResultSettingsMap": {},
     "title": ""
    }
   },
   "source": [
    "Compare sales, profit, and returns across shipping modes."
   ]
  },
  {
   "cell_type": "code",
   "execution_count": 0,
   "metadata": {
    "application/vnd.databricks.v1+cell": {
     "cellMetadata": {
      "byteLimit": 2048000,
      "rowLimit": 10000
     },
     "inputWidgets": {},
     "nuid": "206527f3-04e6-4e9d-a0c3-df7acc2edfc1",
     "showTitle": false,
     "tableResultSettingsMap": {},
     "title": ""
    }
   },
   "outputs": [
    {
     "output_type": "stream",
     "name": "stdout",
     "output_type": "stream",
     "text": [
      "+--------------+-----------+------------+-------------+\n|     Ship Mode|total_sales|total_profit|total_returns|\n+--------------+-----------+------------+-------------+\n|Standard Class|    1714115|      192830|         1794|\n|  Second Class|     534999|       76419|          452|\n|   First Class|     446620|       64254|          594|\n|      Same Day|     203028|       33095|          386|\n+--------------+-----------+------------+-------------+\n\n"
     ]
    }
   ],
   "source": [
    "shipping_mode_comparison = df_orders_return.groupBy('Ship Mode') \\\n",
    "    .agg(\n",
    "        sum('Sales').cast('int').alias('total_sales'),\n",
    "        sum('Profit').cast('int').alias('total_profit'),\n",
    "        sum(when(col('Returned') == 'Yes', 1).otherwise(0)).alias('total_returns')\n",
    "         ).orderBy('total_sales', ascending=False)\n",
    "    \n",
    "\n",
    "shipping_mode_comparison.show()"
   ]
  },
  {
   "cell_type": "markdown",
   "metadata": {
    "application/vnd.databricks.v1+cell": {
     "cellMetadata": {
      "byteLimit": 2048000,
      "rowLimit": 10000
     },
     "inputWidgets": {},
     "nuid": "9000024e-21bf-4607-aa33-076b9e2f5e57",
     "showTitle": false,
     "tableResultSettingsMap": {},
     "title": ""
    }
   },
   "source": [
    "Analyze sales and profit trends over time."
   ]
  },
  {
   "cell_type": "code",
   "execution_count": 0,
   "metadata": {
    "application/vnd.databricks.v1+cell": {
     "cellMetadata": {
      "byteLimit": 2048000,
      "rowLimit": 10000
     },
     "inputWidgets": {},
     "nuid": "f0e06a80-5720-47cf-a764-2f399c9b4d09",
     "showTitle": false,
     "tableResultSettingsMap": {},
     "title": ""
    }
   },
   "outputs": [
    {
     "output_type": "display_data",
     "data": {
      "text/html": [
       "<style scoped>\n",
       "  .table-result-container {\n",
       "    max-height: 300px;\n",
       "    overflow: auto;\n",
       "  }\n",
       "  table, th, td {\n",
       "    border: 1px solid black;\n",
       "    border-collapse: collapse;\n",
       "  }\n",
       "  th, td {\n",
       "    padding: 5px;\n",
       "  }\n",
       "  th {\n",
       "    text-align: left;\n",
       "  }\n",
       "</style><div class='table-result-container'><table class='table-result'><thead style='background-color: white'><tr><th>month_order</th><th>total_sales</th><th>total_profit</th></tr></thead><tbody><tr><td>2024-12</td><td>82573</td><td>8724</td></tr><tr><td>2024-11</td><td>117390</td><td>9507</td></tr><tr><td>2024-10</td><td>83204</td><td>10657</td></tr><tr><td>2024-09</td><td>86685</td><td>10831</td></tr><tr><td>2024-08</td><td>63652</td><td>9491</td></tr><tr><td>2024-07</td><td>45215</td><td>7335</td></tr><tr><td>2024-06</td><td>52316</td><td>8338</td></tr><tr><td>2024-05</td><td>44989</td><td>6405</td></tr><tr><td>2024-04</td><td>36277</td><td>953</td></tr><tr><td>2024-03</td><td>60595</td><td>14984</td></tr><tr><td>2024-02</td><td>20262</td><td>1606</td></tr><tr><td>2024-01</td><td>44148</td><td>7313</td></tr><tr><td>2023-12</td><td>96578</td><td>17987</td></tr><tr><td>2023-11</td><td>78454</td><td>4144</td></tr><tr><td>2023-10</td><td>58142</td><td>16192</td></tr><tr><td>2023-09</td><td>71959</td><td>9071</td></tr><tr><td>2023-08</td><td>31615</td><td>2297</td></tr><tr><td>2023-07</td><td>40146</td><td>4511</td></tr><tr><td>2023-06</td><td>40220</td><td>4754</td></tr><tr><td>2023-05</td><td>56512</td><td>8656</td></tr><tr><td>2023-04</td><td>38666</td><td>2985</td></tr><tr><td>2023-03</td><td>52147</td><td>3627</td></tr><tr><td>2023-02</td><td>22706</td><td>4997</td></tr><tr><td>2023-01</td><td>18720</td><td>2878</td></tr><tr><td>2022-12</td><td>75091</td><td>8064</td></tr><tr><td>2022-11</td><td>74699</td><td>12580</td></tr><tr><td>2022-10</td><td>31384</td><td>2816</td></tr><tr><td>2022-09</td><td>63735</td><td>8262</td></tr><tr><td>2022-08</td><td>36539</td><td>5321</td></tr><tr><td>2022-07</td><td>28524</td><td>3189</td></tr><tr><td>2022-06</td><td>24659</td><td>3374</td></tr><tr><td>2022-05</td><td>29441</td><td>4562</td></tr><tr><td>2022-04</td><td>32640</td><td>4495</td></tr><tr><td>2022-03</td><td>39873</td><td>9882</td></tr><tr><td>2022-02</td><td>11924</td><td>2807</td></tr><tr><td>2022-01</td><td>18372</td><td>-3199</td></tr><tr><td>2021-12</td><td>71842</td><td>9484</td></tr><tr><td>2021-11</td><td>78495</td><td>9253</td></tr><tr><td>2021-10</td><td>32346</td><td>3472</td></tr><tr><td>2021-09</td><td>82389</td><td>8481</td></tr><tr><td>2021-08</td><td>28612</td><td>5801</td></tr><tr><td>2021-07</td><td>33500</td><td>-925</td></tr><tr><td>2021-06</td><td>34583</td><td>5081</td></tr><tr><td>2021-05</td><td>26306</td><td>3190</td></tr><tr><td>2021-04</td><td>28139</td><td>3453</td></tr><tr><td>2021-03</td><td>56769</td><td>614</td></tr><tr><td>2021-02</td><td>4119</td><td>786</td></tr><tr><td>2021-01</td><td>14442</td><td>2506</td></tr></tbody></table></div>"
      ]
     },
     "metadata": {
      "application/vnd.databricks.v1+output": {
       "addedWidgets": {},
       "aggData": [],
       "aggError": "",
       "aggOverflow": false,
       "aggSchema": [],
       "aggSeriesLimitReached": false,
       "aggType": "",
       "arguments": {},
       "columnCustomDisplayInfos": {},
       "data": [
        [
         "2024-12",
         82573,
         8724
        ],
        [
         "2024-11",
         117390,
         9507
        ],
        [
         "2024-10",
         83204,
         10657
        ],
        [
         "2024-09",
         86685,
         10831
        ],
        [
         "2024-08",
         63652,
         9491
        ],
        [
         "2024-07",
         45215,
         7335
        ],
        [
         "2024-06",
         52316,
         8338
        ],
        [
         "2024-05",
         44989,
         6405
        ],
        [
         "2024-04",
         36277,
         953
        ],
        [
         "2024-03",
         60595,
         14984
        ],
        [
         "2024-02",
         20262,
         1606
        ],
        [
         "2024-01",
         44148,
         7313
        ],
        [
         "2023-12",
         96578,
         17987
        ],
        [
         "2023-11",
         78454,
         4144
        ],
        [
         "2023-10",
         58142,
         16192
        ],
        [
         "2023-09",
         71959,
         9071
        ],
        [
         "2023-08",
         31615,
         2297
        ],
        [
         "2023-07",
         40146,
         4511
        ],
        [
         "2023-06",
         40220,
         4754
        ],
        [
         "2023-05",
         56512,
         8656
        ],
        [
         "2023-04",
         38666,
         2985
        ],
        [
         "2023-03",
         52147,
         3627
        ],
        [
         "2023-02",
         22706,
         4997
        ],
        [
         "2023-01",
         18720,
         2878
        ],
        [
         "2022-12",
         75091,
         8064
        ],
        [
         "2022-11",
         74699,
         12580
        ],
        [
         "2022-10",
         31384,
         2816
        ],
        [
         "2022-09",
         63735,
         8262
        ],
        [
         "2022-08",
         36539,
         5321
        ],
        [
         "2022-07",
         28524,
         3189
        ],
        [
         "2022-06",
         24659,
         3374
        ],
        [
         "2022-05",
         29441,
         4562
        ],
        [
         "2022-04",
         32640,
         4495
        ],
        [
         "2022-03",
         39873,
         9882
        ],
        [
         "2022-02",
         11924,
         2807
        ],
        [
         "2022-01",
         18372,
         -3199
        ],
        [
         "2021-12",
         71842,
         9484
        ],
        [
         "2021-11",
         78495,
         9253
        ],
        [
         "2021-10",
         32346,
         3472
        ],
        [
         "2021-09",
         82389,
         8481
        ],
        [
         "2021-08",
         28612,
         5801
        ],
        [
         "2021-07",
         33500,
         -925
        ],
        [
         "2021-06",
         34583,
         5081
        ],
        [
         "2021-05",
         26306,
         3190
        ],
        [
         "2021-04",
         28139,
         3453
        ],
        [
         "2021-03",
         56769,
         614
        ],
        [
         "2021-02",
         4119,
         786
        ],
        [
         "2021-01",
         14442,
         2506
        ]
       ],
       "datasetInfos": [],
       "dbfsResultPath": null,
       "isJsonSchema": true,
       "metadata": {},
       "overflow": false,
       "plotOptions": {
        "customPlotOptions": {},
        "displayType": "table",
        "pivotAggregation": null,
        "pivotColumns": null,
        "xColumns": null,
        "yColumns": null
       },
       "removedWidgets": [],
       "schema": [
        {
         "metadata": "{}",
         "name": "month_order",
         "type": "\"string\""
        },
        {
         "metadata": "{}",
         "name": "total_sales",
         "type": "\"integer\""
        },
        {
         "metadata": "{}",
         "name": "total_profit",
         "type": "\"integer\""
        }
       ],
       "type": "table"
      }
     },
     "output_type": "display_data"
    }
   ],
   "source": [
    "df_order_withdate = df_orders.withColumn('month_order', date_format('Order Date', 'yyyy-MM'))\n",
    "\n",
    "sales_profit_overtime =  df_order_withdate.groupBy('month_order')\\\n",
    "                                           .agg(\n",
    "                                             sum('Sales').cast('int').alias('total_sales'),\n",
    "                                             sum('Profit').cast('int').alias('total_profit')\n",
    "                                           ).orderBy('month_order', ascending =False).display()"
   ]
  },
  {
   "cell_type": "markdown",
   "metadata": {
    "application/vnd.databricks.v1+cell": {
     "cellMetadata": {
      "byteLimit": 2048000,
      "rowLimit": 10000
     },
     "inputWidgets": {},
     "nuid": "12137a62-2ffd-42f6-a59f-d235f12d3a51",
     "showTitle": false,
     "tableResultSettingsMap": {},
     "title": ""
    }
   },
   "source": [
    "Identify highly profitable products and underperformers."
   ]
  },
  {
   "cell_type": "code",
   "execution_count": 0,
   "metadata": {
    "application/vnd.databricks.v1+cell": {
     "cellMetadata": {
      "byteLimit": 2048000,
      "rowLimit": 10000
     },
     "inputWidgets": {},
     "nuid": "b204934b-6338-4278-84a1-ff691c63b9d7",
     "showTitle": false,
     "tableResultSettingsMap": {},
     "title": ""
    }
   },
   "outputs": [
    {
     "output_type": "stream",
     "name": "stdout",
     "output_type": "stream",
     "text": [
      "+--------------------+------------+\n|        Product Name|total_Profit|\n+--------------------+------------+\n|Canon imageCLASS ...|       25199|\n|Fellowes PB500 El...|        7753|\n|Hewlett Packard L...|        6983|\n+--------------------+------------+\nonly showing top 3 rows\n\n+--------------------+------------+\n|        Product Name|total_Profit|\n+--------------------+------------+\n|Cubify CubeX 3D P...|       -8879|\n|Lexmark MX611dhe ...|       -4589|\n|Cubify CubeX 3D P...|       -3839|\n+--------------------+------------+\nonly showing top 3 rows\n\n"
     ]
    }
   ],
   "source": [
    "profit_by_product = df_orders.groupBy('Product Name')\\\n",
    "                             .agg(\n",
    "                               sum('Profit').cast('int').alias('total_Profit')\n",
    "                                   ).orderBy('total_Profit', ascending=False).show(3)\n",
    "                             \n",
    "\n",
    "least_perform = df_orders.groupBy('Product Name')\\\n",
    "                             .agg(\n",
    "                               sum('Profit').cast('int').alias('total_Profit')\n",
    "                                   ).orderBy('total_Profit', ascending=True).show(3)"
   ]
  },
  {
   "cell_type": "markdown",
   "metadata": {
    "application/vnd.databricks.v1+cell": {
     "cellMetadata": {
      "byteLimit": 2048000,
      "rowLimit": 10000
     },
     "inputWidgets": {},
     "nuid": "01a80b6b-66d3-4116-aa66-1898c4d06b83",
     "showTitle": false,
     "tableResultSettingsMap": {},
     "title": ""
    }
   },
   "source": [
    "**Determine the most loyal customers by analyzing repeat orders.**"
   ]
  },
  {
   "cell_type": "code",
   "execution_count": 0,
   "metadata": {
    "application/vnd.databricks.v1+cell": {
     "cellMetadata": {
      "byteLimit": 2048000,
      "rowLimit": 10000
     },
     "inputWidgets": {},
     "nuid": "18893c8b-c5c5-4fbe-996a-25b58c380c7c",
     "showTitle": false,
     "tableResultSettingsMap": {},
     "title": ""
    }
   },
   "outputs": [
    {
     "output_type": "stream",
     "name": "stdout",
     "output_type": "stream",
     "text": [
      "+-----------+-------------------+-----------+\n|Customer id|      Customer Name|total_order|\n+-----------+-------------------+-----------+\n|   WB-21850|      William Brown|         41|\n|   BF-11170|         Ben Ferrer|         37|\n|   GG-14650|       Greg Guthrie|         36|\n|   PP-18955|         Paul Prost|         34|\n|   JL-15835|           John Lee|         34|\n|   XP-21865|       Xylona Preis|         34|\n|   JW-15220|          Jane Waco|         34|\n|   MA-17560|       Matt Abelman|         34|\n|   JD-15895|   Jonathan Doherty|         32|\n|   CK-12205|Chloris Kastensmidt|         32|\n|   EH-13765|       Edward Hooks|         32|\n|   SV-20365|        Seth Vernon|         32|\n|   ZC-21910|   Zuschuss Carroll|         31|\n|   AP-10915|     Arthur Prichep|         31|\n|   EP-13915|         Emily Phan|         31|\n|   JE-15715|         Joe Elijah|         30|\n|   CT-11995|       Carol Triggs|         30|\n|   LC-16870|      Lena Cacioppo|         30|\n|   KL-16645|       Ken Lonsdale|         29|\n|   SH-19975|      Sally Hughsby|         29|\n+-----------+-------------------+-----------+\nonly showing top 20 rows\n\n"
     ]
    }
   ],
   "source": [
    "loyal_cus = df_orders.groupBy('Customer id','Customer Name')\\\n",
    "                       .agg(\n",
    "                         count('Order id').cast('int').alias('total_order')\n",
    "                       ).orderBy('total_order', ascending=False).show()"
   ]
  },
  {
   "cell_type": "markdown",
   "metadata": {
    "application/vnd.databricks.v1+cell": {
     "cellMetadata": {
      "byteLimit": 2048000,
      "rowLimit": 10000
     },
     "inputWidgets": {},
     "nuid": "6b81c63e-e29e-4a22-8894-63e2390cc219",
     "showTitle": false,
     "tableResultSettingsMap": {},
     "title": ""
    }
   },
   "source": [
    "**Identify regions with the highest return rates.**"
   ]
  },
  {
   "cell_type": "code",
   "execution_count": 0,
   "metadata": {
    "application/vnd.databricks.v1+cell": {
     "cellMetadata": {
      "byteLimit": 2048000,
      "rowLimit": 10000
     },
     "inputWidgets": {},
     "nuid": "5e01dac4-d0e2-4763-ac58-343f9ec206f1",
     "showTitle": false,
     "tableResultSettingsMap": {},
     "title": ""
    }
   },
   "outputs": [
    {
     "output_type": "display_data",
     "data": {
      "text/html": [
       "<style scoped>\n",
       "  .table-result-container {\n",
       "    max-height: 300px;\n",
       "    overflow: auto;\n",
       "  }\n",
       "  table, th, td {\n",
       "    border: 1px solid black;\n",
       "    border-collapse: collapse;\n",
       "  }\n",
       "  th, td {\n",
       "    padding: 5px;\n",
       "  }\n",
       "  th {\n",
       "    text-align: left;\n",
       "  }\n",
       "</style><div class='table-result-container'><table class='table-result'><thead style='background-color: white'><tr><th>Region</th><th>total_orders</th><th>total_return</th><th>return_rate</th></tr></thead><tbody><tr><td>West</td><td>4667</td><td>1904</td><td>40</td></tr><tr><td>East</td><td>3594</td><td>757</td><td>21</td></tr><tr><td>Central</td><td>2529</td><td>286</td><td>11</td></tr><tr><td>South</td><td>1830</td><td>279</td><td>15</td></tr></tbody></table></div>"
      ]
     },
     "metadata": {
      "application/vnd.databricks.v1+output": {
       "addedWidgets": {},
       "aggData": [],
       "aggError": "",
       "aggOverflow": false,
       "aggSchema": [],
       "aggSeriesLimitReached": false,
       "aggType": "",
       "arguments": {},
       "columnCustomDisplayInfos": {},
       "data": [
        [
         "West",
         4667,
         1904,
         40
        ],
        [
         "East",
         3594,
         757,
         21
        ],
        [
         "Central",
         2529,
         286,
         11
        ],
        [
         "South",
         1830,
         279,
         15
        ]
       ],
       "datasetInfos": [],
       "dbfsResultPath": null,
       "isJsonSchema": true,
       "metadata": {},
       "overflow": false,
       "plotOptions": {
        "customPlotOptions": {},
        "displayType": "table",
        "pivotAggregation": null,
        "pivotColumns": null,
        "xColumns": null,
        "yColumns": null
       },
       "removedWidgets": [],
       "schema": [
        {
         "metadata": "{}",
         "name": "Region",
         "type": "\"string\""
        },
        {
         "metadata": "{}",
         "name": "total_orders",
         "type": "\"long\""
        },
        {
         "metadata": "{}",
         "name": "total_return",
         "type": "\"long\""
        },
        {
         "metadata": "{}",
         "name": "return_rate",
         "type": "\"integer\""
        }
       ],
       "type": "table"
      }
     },
     "output_type": "display_data"
    }
   ],
   "source": [
    "high_return_region = df_orders_return.groupBy('Region')\\\n",
    "                                     .agg(\n",
    "                                       count('Order ID').alias('total_orders'),\n",
    "                                       count('Returned').alias('total_return'),\n",
    "                                          )\\\n",
    "                                       .withColumn('return_rate',(col('total_return') / col('total_orders') * 100 ).cast('int'))\\\n",
    "                                          .orderBy('total_return', ascending=False).display()"
   ]
  },
  {
   "cell_type": "code",
   "execution_count": 0,
   "metadata": {
    "application/vnd.databricks.v1+cell": {
     "cellMetadata": {
      "byteLimit": 2048000,
      "rowLimit": 10000
     },
     "inputWidgets": {},
     "nuid": "975942e2-de39-4b59-8ab2-49c802cc3b98",
     "showTitle": false,
     "tableResultSettingsMap": {},
     "title": ""
    }
   },
   "outputs": [
    {
     "output_type": "display_data",
     "data": {
      "text/html": [
       "<style scoped>\n",
       "  .ansiout {\n",
       "    display: block;\n",
       "    unicode-bidi: embed;\n",
       "    white-space: pre-wrap;\n",
       "    word-wrap: break-word;\n",
       "    word-break: break-all;\n",
       "    font-family: \"Menlo\", \"Monaco\", \"Consolas\", \"Ubuntu Mono\", \"Source Code Pro\", monospace;\n",
       "    font-size: 13px;\n",
       "    color: #555;\n",
       "    margin-left: 4px;\n",
       "    line-height: 19px;\n",
       "  }\n",
       "</style>\n",
       "<div class=\"ansiout\">res0: Boolean = false\n",
       "</div>"
      ]
     },
     "metadata": {
      "application/vnd.databricks.v1+output": {
       "addedWidgets": {},
       "arguments": {},
       "data": "<div class=\"ansiout\">res0: Boolean = false\n</div>",
       "datasetInfos": [],
       "metadata": {
        "isDbfsCommandResult": false
       },
       "removedWidgets": [],
       "type": "html"
      }
     },
     "output_type": "display_data"
    }
   ],
   "source": [
    "%fs rm FileStore/tables/sample_text_with_header.csv\n",
    "\n"
   ]
  },
  {
   "cell_type": "code",
   "execution_count": 0,
   "metadata": {
    "application/vnd.databricks.v1+cell": {
     "cellMetadata": {
      "byteLimit": 2048000,
      "rowLimit": 10000
     },
     "inputWidgets": {},
     "nuid": "7508cc77-925b-4a42-98c6-43771b02c888",
     "showTitle": false,
     "tableResultSettingsMap": {},
     "title": ""
    }
   },
   "outputs": [
    {
     "output_type": "display_data",
     "data": {
      "text/html": [
       "<style scoped>\n",
       "  .table-result-container {\n",
       "    max-height: 300px;\n",
       "    overflow: auto;\n",
       "  }\n",
       "  table, th, td {\n",
       "    border: 1px solid black;\n",
       "    border-collapse: collapse;\n",
       "  }\n",
       "  th, td {\n",
       "    padding: 5px;\n",
       "  }\n",
       "  th {\n",
       "    text-align: left;\n",
       "  }\n",
       "</style><div class='table-result-container'><table class='table-result'><thead style='background-color: white'><tr><th>path</th><th>name</th><th>size</th><th>modificationTime</th></tr></thead><tbody><tr><td>dbfs:/FileStore/tables/parquetData/df_ppl.parqute/_SUCCESS</td><td>_SUCCESS</td><td>0</td><td>1736850088000</td></tr><tr><td>dbfs:/FileStore/tables/parquetData/df_ppl.parqute/_committed_8185865590075153001</td><td>_committed_8185865590075153001</td><td>123</td><td>1736834953000</td></tr><tr><td>dbfs:/FileStore/tables/parquetData/df_ppl.parqute/_committed_8562446173328730499</td><td>_committed_8562446173328730499</td><td>232</td><td>1736850087000</td></tr><tr><td>dbfs:/FileStore/tables/parquetData/df_ppl.parqute/_committed_vacuum6325623301711621334</td><td>_committed_vacuum6325623301711621334</td><td>96</td><td>1736850088000</td></tr><tr><td>dbfs:/FileStore/tables/parquetData/df_ppl.parqute/_started_8562446173328730499</td><td>_started_8562446173328730499</td><td>0</td><td>1736850084000</td></tr><tr><td>dbfs:/FileStore/tables/parquetData/df_ppl.parqute/part-00000-tid-8562446173328730499-8282347d-7ea2-4539-8ccb-9fc96237a0c6-47-1-c000.snappy.parquet</td><td>part-00000-tid-8562446173328730499-8282347d-7ea2-4539-8ccb-9fc96237a0c6-47-1-c000.snappy.parquet</td><td>985</td><td>1736850087000</td></tr></tbody></table></div>"
      ]
     },
     "metadata": {
      "application/vnd.databricks.v1+output": {
       "addedWidgets": {},
       "aggData": [],
       "aggError": "",
       "aggOverflow": false,
       "aggSchema": [],
       "aggSeriesLimitReached": false,
       "aggType": "",
       "arguments": {},
       "columnCustomDisplayInfos": {},
       "data": [
        [
         "dbfs:/FileStore/tables/parquetData/df_ppl.parqute/_SUCCESS",
         "_SUCCESS",
         0,
         1736850088000
        ],
        [
         "dbfs:/FileStore/tables/parquetData/df_ppl.parqute/_committed_8185865590075153001",
         "_committed_8185865590075153001",
         123,
         1736834953000
        ],
        [
         "dbfs:/FileStore/tables/parquetData/df_ppl.parqute/_committed_8562446173328730499",
         "_committed_8562446173328730499",
         232,
         1736850087000
        ],
        [
         "dbfs:/FileStore/tables/parquetData/df_ppl.parqute/_committed_vacuum6325623301711621334",
         "_committed_vacuum6325623301711621334",
         96,
         1736850088000
        ],
        [
         "dbfs:/FileStore/tables/parquetData/df_ppl.parqute/_started_8562446173328730499",
         "_started_8562446173328730499",
         0,
         1736850084000
        ],
        [
         "dbfs:/FileStore/tables/parquetData/df_ppl.parqute/part-00000-tid-8562446173328730499-8282347d-7ea2-4539-8ccb-9fc96237a0c6-47-1-c000.snappy.parquet",
         "part-00000-tid-8562446173328730499-8282347d-7ea2-4539-8ccb-9fc96237a0c6-47-1-c000.snappy.parquet",
         985,
         1736850087000
        ]
       ],
       "datasetInfos": [],
       "dbfsResultPath": null,
       "isJsonSchema": true,
       "metadata": {
        "isDbfsCommandResult": false
       },
       "overflow": false,
       "plotOptions": {
        "customPlotOptions": {},
        "displayType": "table",
        "pivotAggregation": null,
        "pivotColumns": null,
        "xColumns": null,
        "yColumns": null
       },
       "removedWidgets": [],
       "schema": [
        {
         "metadata": "{}",
         "name": "path",
         "type": "\"string\""
        },
        {
         "metadata": "{}",
         "name": "name",
         "type": "\"string\""
        },
        {
         "metadata": "{}",
         "name": "size",
         "type": "\"long\""
        },
        {
         "metadata": "{}",
         "name": "modificationTime",
         "type": "\"long\""
        }
       ],
       "type": "table"
      }
     },
     "output_type": "display_data"
    }
   ],
   "source": [
    "%fs ls /FileStore/tables/parquetData/df_ppl.parqute/"
   ]
  },
  {
   "cell_type": "code",
   "execution_count": 0,
   "metadata": {
    "application/vnd.databricks.v1+cell": {
     "cellMetadata": {
      "byteLimit": 2048000,
      "rowLimit": 10000
     },
     "inputWidgets": {},
     "nuid": "6f9d794b-ca44-47b2-8187-6f95c2baf49f",
     "showTitle": false,
     "tableResultSettingsMap": {},
     "title": ""
    }
   },
   "outputs": [],
   "source": [
    "df_people.write.parquet('FileStore/tables/parquetData/df_ppl.parqute', mode='overwrite')"
   ]
  },
  {
   "cell_type": "code",
   "execution_count": 0,
   "metadata": {
    "application/vnd.databricks.v1+cell": {
     "cellMetadata": {
      "byteLimit": 2048000,
      "rowLimit": 10000
     },
     "inputWidgets": {},
     "nuid": "9ee9cc33-6fe4-4e53-b05f-2a75614afe37",
     "showTitle": false,
     "tableResultSettingsMap": {},
     "title": ""
    }
   },
   "outputs": [],
   "source": []
  }
 ],
 "metadata": {
  "application/vnd.databricks.v1+notebook": {
   "computePreferences": null,
   "dashboards": [],
   "environmentMetadata": {
    "base_environment": "",
    "client": "1"
   },
   "language": "python",
   "notebookMetadata": {
    "mostRecentlyExecutedCommandWithImplicitDF": {
     "commandId": 2794190426304412,
     "dataframes": [
      "_sqldf"
     ]
    },
    "pythonIndentUnit": 4
   },
   "notebookName": "Store_Analysis",
   "widgets": {}
  }
 },
 "nbformat": 4,
 "nbformat_minor": 0
}
